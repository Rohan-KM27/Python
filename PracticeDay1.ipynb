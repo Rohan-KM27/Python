{
  "nbformat": 4,
  "nbformat_minor": 0,
  "metadata": {
    "colab": {
      "provenance": [],
      "authorship_tag": "ABX9TyPUgk2/Z0TlfvXwplNeG6Ks",
      "include_colab_link": true
    },
    "kernelspec": {
      "name": "python3",
      "display_name": "Python 3"
    },
    "language_info": {
      "name": "python"
    }
  },
  "cells": [
    {
      "cell_type": "markdown",
      "metadata": {
        "id": "view-in-github",
        "colab_type": "text"
      },
      "source": [
        "<a href=\"https://colab.research.google.com/github/Rohan-KM27/Python/blob/main/PracticeDay1.ipynb\" target=\"_parent\"><img src=\"https://colab.research.google.com/assets/colab-badge.svg\" alt=\"Open In Colab\"/></a>"
      ]
    },
    {
      "cell_type": "code",
      "execution_count": null,
      "metadata": {
        "id": "9n0PW1nD-fkU"
      },
      "outputs": [],
      "source": [
        "\"\"\"1. Write a program that asks the user to enter the width and length of a room. Once these\n",
        "values have been read, your program should compute and display the area of the room. The\n",
        "length and the width will be entered as floating-point numbers. Include units in your prompt\n",
        "and output message; either feet or meters, depending on which unit you are more comfortable\n",
        "working with\"\"\""
      ]
    },
    {
      "cell_type": "code",
      "source": [
        "width=float(input(\"Enter the Width in meters\"))\n",
        "length=float(input(\"Enter the length in meters\"))\n",
        "area=width*length\n",
        "print(\"Area of Room=\",area,\"sqaure meters\")\n",
        "\n"
      ],
      "metadata": {
        "colab": {
          "base_uri": "https://localhost:8080/"
        },
        "id": "vR5owwzQ_idw",
        "outputId": "e0dd595a-4a76-4bd9-a066-76c69192c698"
      },
      "execution_count": 2,
      "outputs": [
        {
          "output_type": "stream",
          "name": "stdout",
          "text": [
            "Enter the Width in meters5\n",
            "Enter the length in meters6\n",
            "Area of Room= 30.0 meters\n"
          ]
        }
      ]
    },
    {
      "cell_type": "code",
      "source": [
        "\"\"\"2. The program that you create for this exercise will begin by reading the cost of a meal\n",
        "ordered at a restaurant from the user. Then your program will compute the tax and tip for the\n",
        "meal. Use your local tax rate when computing the amount of tax owing. Compute the tip as 18\n",
        "percent of the meal amount (without the tax). The output from your program should include\n",
        "the tax amount, the tip amount, and the grand total for the meal including both the tax and the\n",
        "tip. Format the output so that all of the values are displayed using two decimal places\"\"\""
      ],
      "metadata": {
        "colab": {
          "base_uri": "https://localhost:8080/",
          "height": 88
        },
        "id": "jgsurRJAAgmi",
        "outputId": "bf6ed8a9-1c13-4b4b-c813-92d1eddf23d6"
      },
      "execution_count": 3,
      "outputs": [
        {
          "output_type": "execute_result",
          "data": {
            "text/plain": [
              "'2. The program that you create for this exercise will begin by reading the cost of a meal\\nordered at a restaurant from the user. Then your program will compute the tax and tip for the\\nmeal. Use your local tax rate when computing the amount of tax owing. Compute the tip as 18\\npercent of the meal amount (without the tax). The output from your program should include\\nthe tax amount, the tip amount, and the grand total for the meal including both the tax and the\\ntip. Format the output so that all of the values are displayed using two decimal places'"
            ],
            "application/vnd.google.colaboratory.intrinsic+json": {
              "type": "string"
            }
          },
          "metadata": {},
          "execution_count": 3
        }
      ]
    },
    {
      "cell_type": "code",
      "source": [
        "meal_amount = float(input(\"Enter the meal amount: \"))\n",
        "tax_rate = 0.05\n",
        "tip_rate = 0.18\n",
        "\n",
        "tax_amount = meal_amount * tax_rate\n",
        "tip_amount = meal_amount * tip_rate\n",
        "total_amount = meal_amount + tax_amount + tip_amount\n",
        "\n",
        "print(f\"Tax amount is: {tax_amount:.2f}\")\n",
        "print(f\"Tip amount is: {tip_amount:.2f}\")\n",
        "print(f\"Total amount for the meal is: {total_amount:.2f}\")\n"
      ],
      "metadata": {
        "colab": {
          "base_uri": "https://localhost:8080/"
        },
        "id": "hpN199hKBUfH",
        "outputId": "5737af24-4840-4d12-e2a3-894843d0fc65"
      },
      "execution_count": 5,
      "outputs": [
        {
          "output_type": "stream",
          "name": "stdout",
          "text": [
            "Enter the meal amount: 800\n",
            "Tax amount is: 40.00\n",
            "Tip amount is: 144.00\n",
            "Total amount for the meal is: 984.00\n"
          ]
        }
      ]
    },
    {
      "cell_type": "code",
      "source": [
        "\"\"\"3. Consider the software that runs on a self-checkout machine. One task that it must be\n",
        "able to perform is to determine how much change to provide when the shopper pays for a\n",
        "purchase with cash. Write a program that begins by reading a number of cents from the user as\n",
        "an integer. Then your program should compute and display the denominations of the coins that\n",
        "should be used to give that amount of change to the shopper. The change should be given using\n",
        "as few coins as possible. Assume that the machine is loaded with pennies, nickels, dimes,\n",
        "quarters, loonies and toonies\"\"\""
      ],
      "metadata": {
        "colab": {
          "base_uri": "https://localhost:8080/",
          "height": 88
        },
        "id": "UhWtys1MEa-x",
        "outputId": "2e9e5efe-c425-463c-d3da-84647e2680c3"
      },
      "execution_count": 6,
      "outputs": [
        {
          "output_type": "execute_result",
          "data": {
            "text/plain": [
              "'3. Consider the software that runs on a self-checkout machine. One task that it must be\\nable to perform is to determine how much change to provide when the shopper pays for a\\npurchase with cash. Write a program that begins by reading a number of cents from the user as\\nan integer. Then your program should compute and display the denominations of the coins that\\nshould be used to give that amount of change to the shopper. The change should be given using\\nas few coins as possible. Assume that the machine is loaded with pennies, nickels, dimes,\\nquarters, loonies and toonies'"
            ],
            "application/vnd.google.colaboratory.intrinsic+json": {
              "type": "string"
            }
          },
          "metadata": {},
          "execution_count": 6
        }
      ]
    },
    {
      "cell_type": "code",
      "source": [
        "\n",
        "cents = int(input(\"Enter the amount of change in cents: \"))\n",
        "\n",
        "toonies = cents // 200\n",
        "cents %= 200\n",
        "\n",
        "loonies = cents // 100\n",
        "cents %= 100\n",
        "\n",
        "quarters = cents // 25\n",
        "cents %= 25\n",
        "\n",
        "dimes = cents // 10\n",
        "cents %= 10\n",
        "\n",
        "nickels = cents // 5\n",
        "cents %= 5\n",
        "\n",
        "pennies = cents\n",
        "\n",
        "print(\"Toonies:\", toonies)\n",
        "print(\"Loonies:\", loonies)\n",
        "print(\"Quarters:\", quarters)\n",
        "print(\"Dimes:\", dimes)\n",
        "print(\"Nickels:\", nickels)\n",
        "print(\"Pennies:\", pennies)\n"
      ],
      "metadata": {
        "colab": {
          "base_uri": "https://localhost:8080/"
        },
        "id": "7wkahGNnFDk6",
        "outputId": "884b9a76-03af-42c4-d656-60f4e7fa5fb9"
      },
      "execution_count": 12,
      "outputs": [
        {
          "output_type": "stream",
          "name": "stdout",
          "text": [
            "Enter the amount of change in cents: 6\n",
            "Toonies: 0\n",
            "Loonies: 0\n",
            "Quarters: 0\n",
            "Dimes: 0\n",
            "Nickels: 1\n",
            "Pennies: 1\n"
          ]
        }
      ]
    },
    {
      "cell_type": "code",
      "source": [
        "\"\"\"4. Many people think about their height in feet and inches, even in some countries that\n",
        "primarily use the metric system. Write a program that reads a number of feet from the user,\n",
        "followed by a number of inches. Once these values are read, your program should compute and\n",
        "display the equivalent number of centimeters\"\"\""
      ],
      "metadata": {
        "colab": {
          "base_uri": "https://localhost:8080/",
          "height": 53
        },
        "id": "7rzpNrk3GJ0X",
        "outputId": "34d90dcb-4dac-41c6-cb71-aec912888b93"
      },
      "execution_count": 13,
      "outputs": [
        {
          "output_type": "execute_result",
          "data": {
            "text/plain": [
              "'4. Many people think about their height in feet and inches, even in some countries that\\nprimarily use the metric system. Write a program that reads a number of feet from the user,\\nfollowed by a number of inches. Once these values are read, your program should compute and\\ndisplay the equivalent number of centimeters'"
            ],
            "application/vnd.google.colaboratory.intrinsic+json": {
              "type": "string"
            }
          },
          "metadata": {},
          "execution_count": 13
        }
      ]
    },
    {
      "cell_type": "code",
      "source": [
        "feet=float(input(\"Enter the height in feet\"))\n",
        "inches=float(input(\"Enter the height in inches\"))\n",
        "total_inches=feet*12+inches\n",
        "height_in_cm=total_inches*2.54\n",
        "print(\"Height of the person in centimeters:\",height_in_cm)"
      ],
      "metadata": {
        "colab": {
          "base_uri": "https://localhost:8080/"
        },
        "id": "4cjKDZ-yG5mG",
        "outputId": "0433a783-68b5-495b-a916-6fd1815d9683"
      },
      "execution_count": 15,
      "outputs": [
        {
          "output_type": "stream",
          "name": "stdout",
          "text": [
            "Enter the height in feet5\n",
            "Enter the height in inches11\n",
            "Height of the person in centimeters: 180.34\n"
          ]
        }
      ]
    },
    {
      "cell_type": "code",
      "source": [
        "\"\"\"5. Develop a program that begins by reading a number of seconds from the user. Then\n",
        "your program should display the equivalent amount of time in the form D:HH:MM:SS, where\n",
        "D, HH, MM, and SS represent days, hours, minutes and seconds respectively. The hours,\n",
        "minutes and seconds should all be formatted so that they occupy exactly two digits. Use your\n",
        "research skills determine what additional character needs to be included in the format specifier\n",
        "so that leading zeros are used instead of leading spaces when a number is formatted to a\n",
        "particular width\"\"\""
      ],
      "metadata": {
        "colab": {
          "base_uri": "https://localhost:8080/",
          "height": 88
        },
        "id": "XWZLvV1_H3Yi",
        "outputId": "5cda5ccc-1ea1-4f66-f2cf-b898d4e55061"
      },
      "execution_count": 17,
      "outputs": [
        {
          "output_type": "execute_result",
          "data": {
            "text/plain": [
              "'5. Develop a program that begins by reading a number of seconds from the user. Then\\nyour program should display the equivalent amount of time in the form D:HH:MM:SS, where\\nD, HH, MM, and SS represent days, hours, minutes and seconds respectively. The hours,\\nminutes and seconds should all be formatted so that they occupy exactly two digits. Use your\\nresearch skills determine what additional character needs to be included in the format specifier\\nso that leading zeros are used instead of leading spaces when a number is formatted to a\\nparticular width'"
            ],
            "application/vnd.google.colaboratory.intrinsic+json": {
              "type": "string"
            }
          },
          "metadata": {},
          "execution_count": 17
        }
      ]
    },
    {
      "cell_type": "code",
      "source": [
        "seconds = int(input(\"Enter the number of seconds: \"))\n",
        "\n",
        "days = seconds // (24 * 3600)\n",
        "seconds %= (24 * 3600)\n",
        "hours = seconds // 3600\n",
        "seconds %= 3600\n",
        "minutes = seconds // 60\n",
        "seconds %= 60\n",
        "\n",
        "formatted_time = f\"{days}:{hours:02}:{minutes:02}:{seconds:02}\"\n",
        "print(\"Equivalent time: \", formatted_time)\n"
      ],
      "metadata": {
        "colab": {
          "base_uri": "https://localhost:8080/"
        },
        "id": "WBYot_ndI8Zm",
        "outputId": "c11afea5-6b17-4ed4-913b-421813c37833"
      },
      "execution_count": 18,
      "outputs": [
        {
          "output_type": "stream",
          "name": "stdout",
          "text": [
            "Enter the number of seconds: 6000\n",
            "Equivalent time:  0:01:40:00\n"
          ]
        }
      ]
    },
    {
      "cell_type": "code",
      "source": [
        " \"\"\"7. Create a program that reads three integers from the user and displays them in sorted\n",
        "order (from smallest to largest). Use the min and max functions to find the smallest and largest\n",
        "values. The middle value can be found by computing the sum of all three values, and then\n",
        "subtracting the minimum value and the maximum value\"\"\"\n"
      ],
      "metadata": {
        "colab": {
          "base_uri": "https://localhost:8080/",
          "height": 53
        },
        "id": "8ZT4wMq3KZHw",
        "outputId": "c44ff4a6-ffcb-4a65-b97d-96a63aecf99b"
      },
      "execution_count": 19,
      "outputs": [
        {
          "output_type": "execute_result",
          "data": {
            "text/plain": [
              "'7. Create a program that reads three integers from the user and displays them in sorted\\norder (from smallest to largest). Use the min and max functions to find the smallest and largest\\nvalues. The middle value can be found by computing the sum of all three values, and then\\nsubtracting the minimum value and the maximum value'"
            ],
            "application/vnd.google.colaboratory.intrinsic+json": {
              "type": "string"
            }
          },
          "metadata": {},
          "execution_count": 19
        }
      ]
    },
    {
      "cell_type": "code",
      "source": [
        "\n",
        "num1 = int(input(\"Enter the first number: \"))\n",
        "num2 = int(input(\"Enter the second number: \"))\n",
        "num3 = int(input(\"Enter the third number: \"))\n",
        "\n",
        "minimum = min(num1, num2, num3)\n",
        "maximum = max(num1, num2, num3)\n",
        "\n",
        "middle = num1 + num2 + num3 - minimum - maximum\n",
        "\n",
        "print(\"Numbers in sorted order:\", minimum, middle, maximum)\n"
      ],
      "metadata": {
        "colab": {
          "base_uri": "https://localhost:8080/"
        },
        "id": "D_LtwrL1SAjw",
        "outputId": "97bd53df-f430-47e6-cff0-b2e052a84953"
      },
      "execution_count": 29,
      "outputs": [
        {
          "output_type": "stream",
          "name": "stdout",
          "text": [
            "Enter the first number: 9\n",
            "Enter the second number: 5\n",
            "Enter the third number: 1\n",
            "Numbers in sorted order: 1 5 9\n"
          ]
        }
      ]
    },
    {
      "cell_type": "code",
      "source": [
        "\"\"\"8. A bakery sells loaves of bread for $3.49 each. Day old bread is discounted by 60\n",
        "percent. Write a program that begins by reading the number of loaves of day old bread being\n",
        "purchased from the user. Then your program should display the regular price for the bread, the\n",
        "discount because it is a day old, and the total price. Each of these amounts should be displayed\n",
        "on its own line with an appropriate label. All of the values should be displayed using two\n",
        "decimal places, and the decimal points in all of the numbers should be aligned when reasonable\n",
        "values are entered by the user\"\"\""
      ],
      "metadata": {
        "colab": {
          "base_uri": "https://localhost:8080/",
          "height": 88
        },
        "id": "64HaIcXDSMRs",
        "outputId": "1602cdc6-5f44-4896-c907-b932756ef9ec"
      },
      "execution_count": 30,
      "outputs": [
        {
          "output_type": "execute_result",
          "data": {
            "text/plain": [
              "'8. A bakery sells loaves of bread for $3.49 each. Day old bread is discounted by 60\\npercent. Write a program that begins by reading the number of loaves of day old bread being\\npurchased from the user. Then your program should display the regular price for the bread, the\\ndiscount because it is a day old, and the total price. Each of these amounts should be displayed\\non its own line with an appropriate label. All of the values should be displayed using two\\ndecimal places, and the decimal points in all of the numbers should be aligned when reasonable\\nvalues are entered by the user'"
            ],
            "application/vnd.google.colaboratory.intrinsic+json": {
              "type": "string"
            }
          },
          "metadata": {},
          "execution_count": 30
        }
      ]
    },
    {
      "cell_type": "code",
      "source": [
        "price_per_loaf = 3.49\n",
        "num_loaves = int(input(\"Enter the number of loaves of day old bread being purchased: \"))\n",
        "\n",
        "regular_price = num_loaves * price_per_loaf\n",
        "discount = regular_price * 0.6\n",
        "total_price = regular_price - discount\n",
        "\n",
        "print(f\"Regular price for bread: ${regular_price:.2f}\")\n",
        "print(f\"Discount because it is day old: ${discount:.2f}\")\n",
        "print(f\"Total price: ${total_price:.2f}\")\n"
      ],
      "metadata": {
        "colab": {
          "base_uri": "https://localhost:8080/"
        },
        "id": "4Y9_ivmcVOyn",
        "outputId": "e79ae451-749f-44d0-fe34-f9d32dad3c6d"
      },
      "execution_count": 33,
      "outputs": [
        {
          "output_type": "stream",
          "name": "stdout",
          "text": [
            "Enter the number of loaves of day old bread being purchased: 5\n",
            "Regular price for bread: $17.45\n",
            "Discount because it is day old: $10.47\n",
            "Total price: $6.98\n"
          ]
        }
      ]
    },
    {
      "cell_type": "code",
      "source": [
        "\"\"\"9. In this exercise you will create a program that reads a letter of the alphabet from the\n",
        "user. If the user enters a, e, i, o or u then your program should display a message indicating that\n",
        "the entered letter is a vowel. If the user enters y then your program should display a message\n",
        "indicating that sometimes y is a vowel, and sometimes y is a consonant. Otherwise your\n",
        "program should display a message indicating that the letter is a consonant\"\"\""
      ],
      "metadata": {
        "id": "34zI7TOhXg9H"
      },
      "execution_count": null,
      "outputs": []
    },
    {
      "cell_type": "code",
      "source": [
        "letter = input(\"Enter a letter of the alphabet: \").lower()\n",
        "\n",
        "if letter in ['a', 'e', 'i', 'o', 'u']:\n",
        "    print(\"The entered letter is a vowel.\")\n",
        "elif letter == 'y':\n",
        "    print(\"Sometimes y is a vowel, and sometimes y is a consonant.\")\n",
        "else:\n",
        "    print(\"The entered letter is a consonant.\")\n"
      ],
      "metadata": {
        "colab": {
          "base_uri": "https://localhost:8080/"
        },
        "id": "dwsK8kDsYNFR",
        "outputId": "8282e2bd-4768-4b5f-fe0f-e2f9de348f90"
      },
      "execution_count": 37,
      "outputs": [
        {
          "output_type": "stream",
          "name": "stdout",
          "text": [
            "Enter a letter of the alphabet: u\n",
            "The entered letter is a vowel.\n"
          ]
        }
      ]
    },
    {
      "cell_type": "code",
      "source": [
        "\"\"\"10. Write a program that determines the name of a shape from its number of sides. Read\n",
        "the number of sides from the user and then report the appropriate name as part of a meaningful\n",
        "message. Your program should support shapes with anywhere from 3 up to (and including) 10\n",
        "sides. If a number of sides outside of this range is entered then your program should display an\n",
        "appropriate error message\"\"\""
      ],
      "metadata": {
        "colab": {
          "base_uri": "https://localhost:8080/",
          "height": 70
        },
        "id": "5T3qYwRwYOo3",
        "outputId": "e74ddd42-7a76-4d30-8d39-c54d9233b004"
      },
      "execution_count": 1,
      "outputs": [
        {
          "output_type": "execute_result",
          "data": {
            "text/plain": [
              "'10. Write a program that determines the name of a shape from its number of sides. Read\\nthe number of sides from the user and then report the appropriate name as part of a meaningful\\nmessage. Your program should support shapes with anywhere from 3 up to (and including) 10\\nsides. If a number of sides outside of this range is entered then your program should display an\\nappropriate error message'"
            ],
            "application/vnd.google.colaboratory.intrinsic+json": {
              "type": "string"
            }
          },
          "metadata": {},
          "execution_count": 1
        }
      ]
    },
    {
      "cell_type": "code",
      "source": [
        "n=int(input(\"Enter the number of sides on the shape:\"))\n",
        "if n==3:\n",
        "  print(\"Triangle\")\n",
        "elif n==4:\n",
        "  print(\"Quadrilateral\")\n",
        "elif n==5:\n",
        "  print(\"Pentagon\")\n",
        "elif n==6:\n",
        "  print(\"Hexagon\")\n",
        "elif n==7:\n",
        "  print(\"Heptagon\")\n",
        "elif n==8:\n",
        "  print(\"Octagon\")\n",
        "elif n==9:\n",
        "  print(\"Nonagon\")\n",
        "elif n==10:\n",
        "  print(\"Decagon\")\n",
        "else:\n",
        "  print(\"Error Inavlid sides enter the sides between 2 & 10\")"
      ],
      "metadata": {
        "colab": {
          "base_uri": "https://localhost:8080/"
        },
        "id": "JQOyGpX3KoMA",
        "outputId": "a42e72e9-201f-457a-f6e4-84fe13530a4d"
      },
      "execution_count": 2,
      "outputs": [
        {
          "output_type": "stream",
          "name": "stdout",
          "text": [
            "Enter the number of sides on the shape5\n",
            "Pentagon\n"
          ]
        }
      ]
    },
    {
      "cell_type": "code",
      "source": [
        "\"\"\"6. When the wind blows in cold weather, the air feels even colder than it actually is\n",
        "because the movement of the air increases the rate of cooling for warm objects, like people.\n",
        "This effect is known as wind chill. In 2001, Canada, the United Kingdom and the United States\n",
        "adopted the following formula for computing the wind chill index. Within the formula Ta is the\n",
        "air temperature in degrees Celsius and V is the wind speed in kilometers per hour. A similar\n",
        "formula with different constant values can be used for temperatures in degrees Fahrenheit and\n",
        "wind speeds in miles per hour. WCI = 13.12 + 0.6215Ta − 11.37V0.16 + 0.3965TaV0.16 Write\n",
        "a program that begins by reading the air temperature and wind speed from the user. Once these\n",
        "values have been read your program should display the wind chill index rounded to the closest\n",
        "integer\"\"\""
      ],
      "metadata": {
        "colab": {
          "base_uri": "https://localhost:8080/",
          "height": 105
        },
        "id": "1qEanz-dLu4v",
        "outputId": "2449f5cf-cb26-4dd9-f726-7d9e70a47fa1"
      },
      "execution_count": 3,
      "outputs": [
        {
          "output_type": "execute_result",
          "data": {
            "text/plain": [
              "'6. When the wind blows in cold weather, the air feels even colder than it actually is\\nbecause the movement of the air increases the rate of cooling for warm objects, like people.\\nThis effect is known as wind chill. In 2001, Canada, the United Kingdom and the United States\\nadopted the following formula for computing the wind chill index. Within the formula Ta is the\\nair temperature in degrees Celsius and V is the wind speed in kilometers per hour. A similar\\nformula with different constant values can be used for temperatures in degrees Fahrenheit and\\nwind speeds in miles per hour. WCI = 13.12 + 0.6215Ta − 11.37V0.16 + 0.3965TaV0.16 Write\\na program that begins by reading the air temperature and wind speed from the user. Once these\\nvalues have been read your program should display the wind chill index rounded to the closest\\ninteger'"
            ],
            "application/vnd.google.colaboratory.intrinsic+json": {
              "type": "string"
            }
          },
          "metadata": {},
          "execution_count": 3
        }
      ]
    },
    {
      "cell_type": "code",
      "source": [
        "\n",
        "temperature = float(input(\"Enter the air temperature in degrees Celsius: \"))\n",
        "wind_speed = float(input(\"Enter the wind speed in kilometers per hour: \"))\n",
        "wind_chill_index = 13.12 + 0.6215 * temperature - 11.37 * (wind_speed ** 0.16) + 0.3965 * temperature * (wind_speed ** 0.16)\n",
        "wind_chill_index = round(wind_chill_index)\n",
        "print(\"Wind Chill Index:\", wind_chill_index)\n"
      ],
      "metadata": {
        "id": "Eqg_Zrk7MWWQ"
      },
      "execution_count": null,
      "outputs": []
    }
  ]
}